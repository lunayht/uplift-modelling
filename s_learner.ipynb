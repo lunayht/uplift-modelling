{
 "cells": [
  {
   "cell_type": "markdown",
   "metadata": {},
   "source": [
    "## 0.0 Import Packages"
   ]
  },
  {
   "cell_type": "code",
   "execution_count": 41,
   "metadata": {},
   "outputs": [],
   "source": [
    "%matplotlib inline\n",
    "import matplotlib.pyplot as plt\n",
    "import numpy as np\n",
    "import optuna\n",
    "import pandas as pd\n",
    "import seaborn as sns\n",
    "import shap\n",
    "from lightgbm import LGBMClassifier\n",
    "from sklearn.calibration import CalibratedClassifierCV\n",
    "from sklearn.metrics import roc_auc_score\n",
    "from sklearn.model_selection import train_test_split\n",
    "from sklift.datasets import fetch_criteo\n",
    "from sklift.metrics import qini_auc_score, uplift_at_k, uplift_auc_score, uplift_by_percentile\n",
    "from sklift.viz import (\n",
    "    plot_qini_curve,\n",
    "    plot_uplift_curve,\n",
    "    plot_uplift_by_percentile,\n",
    ")\n",
    "\n",
    "pd.set_option(\"display.max_columns\", 1200)"
   ]
  },
  {
   "cell_type": "markdown",
   "metadata": {},
   "source": [
    "### 0.1 Utils"
   ]
  },
  {
   "cell_type": "code",
   "execution_count": 18,
   "metadata": {},
   "outputs": [],
   "source": [
    "def get_metrics(y, uplift_effect, treatment):\n",
    "    no_effect_share = round(\n",
    "        100 * np.sum(uplift_effect == 0) / len(uplift_effect), \n",
    "        2\n",
    "    )\n",
    "    positive_effect_share = round(\n",
    "        100 * np.sum(uplift_effect > 0) / len(uplift_effect), \n",
    "        2\n",
    "    )\n",
    "    negative_effect_share = round(\n",
    "        100 * np.sum(uplift_effect < 0) / len(uplift_effect), \n",
    "        2\n",
    "    )\n",
    "    print(\n",
    "        f\"Model predicts positive effect in conversion after treatment for {positive_effect_share}% of cases.\"\n",
    "    )\n",
    "    print(\n",
    "        f\"Model predicts negative effect in conversion after treatment for {negative_effect_share}% of cases.\"\n",
    "    )\n",
    "    print(\n",
    "        f\"Model predicts no effect in conversion after treatment for {no_effect_share}% of cases.\"\n",
    "    )\n",
    "    \n",
    "    uplift_at_10 = uplift_at_k(y, uplift_effect, treatment, strategy=\"overall\", k=0.1)\n",
    "    qini_coef = qini_auc_score(y, uplift_effect, treatment)\n",
    "    uplift_auc = uplift_auc_score(y, uplift_effect, treatment)\n",
    "    print(f\"Uplift at 10% by overall: {uplift_at_10}\")\n",
    "    print(f\"Qini coefficient - AUQC: {qini_coef}\")\n",
    "    print(f\"Uplift AUC - AUUC: {uplift_auc}\")\n",
    "    "
   ]
  },
  {
   "cell_type": "markdown",
   "metadata": {},
   "source": [
    "## 1.0 Data Exploration"
   ]
  },
  {
   "cell_type": "code",
   "execution_count": 2,
   "metadata": {},
   "outputs": [],
   "source": [
    "dataset = fetch_criteo(target_col=\"conversion\", treatment_col=\"treatment\")\n",
    "features, target, treatment = dataset.data, dataset.target, dataset.treatment"
   ]
  },
  {
   "cell_type": "markdown",
   "metadata": {},
   "source": [
    "### 1.1 Features Description"
   ]
  },
  {
   "cell_type": "code",
   "execution_count": 5,
   "metadata": {},
   "outputs": [
    {
     "data": {
      "text/html": [
       "<div>\n",
       "<style scoped>\n",
       "    .dataframe tbody tr th:only-of-type {\n",
       "        vertical-align: middle;\n",
       "    }\n",
       "\n",
       "    .dataframe tbody tr th {\n",
       "        vertical-align: top;\n",
       "    }\n",
       "\n",
       "    .dataframe thead th {\n",
       "        text-align: right;\n",
       "    }\n",
       "</style>\n",
       "<table border=\"1\" class=\"dataframe\">\n",
       "  <thead>\n",
       "    <tr style=\"text-align: right;\">\n",
       "      <th></th>\n",
       "      <th>f0</th>\n",
       "      <th>f1</th>\n",
       "      <th>f2</th>\n",
       "      <th>f3</th>\n",
       "      <th>f4</th>\n",
       "      <th>f5</th>\n",
       "      <th>f6</th>\n",
       "      <th>f7</th>\n",
       "      <th>f8</th>\n",
       "      <th>f9</th>\n",
       "      <th>f10</th>\n",
       "      <th>f11</th>\n",
       "    </tr>\n",
       "  </thead>\n",
       "  <tbody>\n",
       "    <tr>\n",
       "      <th>count</th>\n",
       "      <td>1.397959e+07</td>\n",
       "      <td>1.397959e+07</td>\n",
       "      <td>1.397959e+07</td>\n",
       "      <td>1.397959e+07</td>\n",
       "      <td>1.397959e+07</td>\n",
       "      <td>1.397959e+07</td>\n",
       "      <td>1.397959e+07</td>\n",
       "      <td>1.397959e+07</td>\n",
       "      <td>1.397959e+07</td>\n",
       "      <td>1.397959e+07</td>\n",
       "      <td>1.397959e+07</td>\n",
       "      <td>1.397959e+07</td>\n",
       "    </tr>\n",
       "    <tr>\n",
       "      <th>mean</th>\n",
       "      <td>1.962030e+01</td>\n",
       "      <td>1.006998e+01</td>\n",
       "      <td>8.446582e+00</td>\n",
       "      <td>4.178923e+00</td>\n",
       "      <td>1.033884e+01</td>\n",
       "      <td>4.028513e+00</td>\n",
       "      <td>-4.155356e+00</td>\n",
       "      <td>5.101765e+00</td>\n",
       "      <td>3.933581e+00</td>\n",
       "      <td>1.602764e+01</td>\n",
       "      <td>5.333396e+00</td>\n",
       "      <td>-1.709672e-01</td>\n",
       "    </tr>\n",
       "    <tr>\n",
       "      <th>std</th>\n",
       "      <td>5.377464e+00</td>\n",
       "      <td>1.047557e-01</td>\n",
       "      <td>2.993161e-01</td>\n",
       "      <td>1.336645e+00</td>\n",
       "      <td>3.433081e-01</td>\n",
       "      <td>4.310974e-01</td>\n",
       "      <td>4.577914e+00</td>\n",
       "      <td>1.205248e+00</td>\n",
       "      <td>5.665958e-02</td>\n",
       "      <td>7.018975e+00</td>\n",
       "      <td>1.682288e-01</td>\n",
       "      <td>2.283277e-02</td>\n",
       "    </tr>\n",
       "    <tr>\n",
       "      <th>min</th>\n",
       "      <td>1.261636e+01</td>\n",
       "      <td>1.005965e+01</td>\n",
       "      <td>8.214383e+00</td>\n",
       "      <td>-8.398387e+00</td>\n",
       "      <td>1.028053e+01</td>\n",
       "      <td>-9.011892e+00</td>\n",
       "      <td>-3.142978e+01</td>\n",
       "      <td>4.833815e+00</td>\n",
       "      <td>3.635107e+00</td>\n",
       "      <td>1.319006e+01</td>\n",
       "      <td>5.300375e+00</td>\n",
       "      <td>-1.383941e+00</td>\n",
       "    </tr>\n",
       "    <tr>\n",
       "      <th>25%</th>\n",
       "      <td>1.261636e+01</td>\n",
       "      <td>1.005965e+01</td>\n",
       "      <td>8.214383e+00</td>\n",
       "      <td>4.679882e+00</td>\n",
       "      <td>1.028053e+01</td>\n",
       "      <td>4.115453e+00</td>\n",
       "      <td>-6.699321e+00</td>\n",
       "      <td>4.833815e+00</td>\n",
       "      <td>3.910792e+00</td>\n",
       "      <td>1.319006e+01</td>\n",
       "      <td>5.300375e+00</td>\n",
       "      <td>-1.686792e-01</td>\n",
       "    </tr>\n",
       "    <tr>\n",
       "      <th>50%</th>\n",
       "      <td>2.192341e+01</td>\n",
       "      <td>1.005965e+01</td>\n",
       "      <td>8.214383e+00</td>\n",
       "      <td>4.679882e+00</td>\n",
       "      <td>1.028053e+01</td>\n",
       "      <td>4.115453e+00</td>\n",
       "      <td>-2.411115e+00</td>\n",
       "      <td>4.833815e+00</td>\n",
       "      <td>3.971858e+00</td>\n",
       "      <td>1.319006e+01</td>\n",
       "      <td>5.300375e+00</td>\n",
       "      <td>-1.686792e-01</td>\n",
       "    </tr>\n",
       "    <tr>\n",
       "      <th>75%</th>\n",
       "      <td>2.443646e+01</td>\n",
       "      <td>1.005965e+01</td>\n",
       "      <td>8.723335e+00</td>\n",
       "      <td>4.679882e+00</td>\n",
       "      <td>1.028053e+01</td>\n",
       "      <td>4.115453e+00</td>\n",
       "      <td>2.944427e-01</td>\n",
       "      <td>4.833815e+00</td>\n",
       "      <td>3.971858e+00</td>\n",
       "      <td>1.319006e+01</td>\n",
       "      <td>5.300375e+00</td>\n",
       "      <td>-1.686792e-01</td>\n",
       "    </tr>\n",
       "    <tr>\n",
       "      <th>max</th>\n",
       "      <td>2.674526e+01</td>\n",
       "      <td>1.634419e+01</td>\n",
       "      <td>9.051962e+00</td>\n",
       "      <td>4.679882e+00</td>\n",
       "      <td>2.112351e+01</td>\n",
       "      <td>4.115453e+00</td>\n",
       "      <td>2.944427e-01</td>\n",
       "      <td>1.199840e+01</td>\n",
       "      <td>3.971858e+00</td>\n",
       "      <td>7.529502e+01</td>\n",
       "      <td>6.473917e+00</td>\n",
       "      <td>-1.686792e-01</td>\n",
       "    </tr>\n",
       "  </tbody>\n",
       "</table>\n",
       "</div>"
      ],
      "text/plain": [
       "                 f0            f1            f2            f3            f4  \\\n",
       "count  1.397959e+07  1.397959e+07  1.397959e+07  1.397959e+07  1.397959e+07   \n",
       "mean   1.962030e+01  1.006998e+01  8.446582e+00  4.178923e+00  1.033884e+01   \n",
       "std    5.377464e+00  1.047557e-01  2.993161e-01  1.336645e+00  3.433081e-01   \n",
       "min    1.261636e+01  1.005965e+01  8.214383e+00 -8.398387e+00  1.028053e+01   \n",
       "25%    1.261636e+01  1.005965e+01  8.214383e+00  4.679882e+00  1.028053e+01   \n",
       "50%    2.192341e+01  1.005965e+01  8.214383e+00  4.679882e+00  1.028053e+01   \n",
       "75%    2.443646e+01  1.005965e+01  8.723335e+00  4.679882e+00  1.028053e+01   \n",
       "max    2.674526e+01  1.634419e+01  9.051962e+00  4.679882e+00  2.112351e+01   \n",
       "\n",
       "                 f5            f6            f7            f8            f9  \\\n",
       "count  1.397959e+07  1.397959e+07  1.397959e+07  1.397959e+07  1.397959e+07   \n",
       "mean   4.028513e+00 -4.155356e+00  5.101765e+00  3.933581e+00  1.602764e+01   \n",
       "std    4.310974e-01  4.577914e+00  1.205248e+00  5.665958e-02  7.018975e+00   \n",
       "min   -9.011892e+00 -3.142978e+01  4.833815e+00  3.635107e+00  1.319006e+01   \n",
       "25%    4.115453e+00 -6.699321e+00  4.833815e+00  3.910792e+00  1.319006e+01   \n",
       "50%    4.115453e+00 -2.411115e+00  4.833815e+00  3.971858e+00  1.319006e+01   \n",
       "75%    4.115453e+00  2.944427e-01  4.833815e+00  3.971858e+00  1.319006e+01   \n",
       "max    4.115453e+00  2.944427e-01  1.199840e+01  3.971858e+00  7.529502e+01   \n",
       "\n",
       "                f10           f11  \n",
       "count  1.397959e+07  1.397959e+07  \n",
       "mean   5.333396e+00 -1.709672e-01  \n",
       "std    1.682288e-01  2.283277e-02  \n",
       "min    5.300375e+00 -1.383941e+00  \n",
       "25%    5.300375e+00 -1.686792e-01  \n",
       "50%    5.300375e+00 -1.686792e-01  \n",
       "75%    5.300375e+00 -1.686792e-01  \n",
       "max    6.473917e+00 -1.686792e-01  "
      ]
     },
     "execution_count": 5,
     "metadata": {},
     "output_type": "execute_result"
    }
   ],
   "source": [
    "features.describe()"
   ]
  },
  {
   "cell_type": "code",
   "execution_count": 6,
   "metadata": {},
   "outputs": [
    {
     "data": {
      "text/plain": [
       "0    0.997083\n",
       "1    0.002917\n",
       "Name: conversion, dtype: Float64"
      ]
     },
     "execution_count": 6,
     "metadata": {},
     "output_type": "execute_result"
    }
   ],
   "source": [
    "target.value_counts(normalize=True)"
   ]
  },
  {
   "cell_type": "code",
   "execution_count": 9,
   "metadata": {},
   "outputs": [
    {
     "data": {
      "text/plain": [
       "1    0.85\n",
       "0    0.15\n",
       "Name: treatment, dtype: Float64"
      ]
     },
     "execution_count": 9,
     "metadata": {},
     "output_type": "execute_result"
    }
   ],
   "source": [
    "treatment.value_counts(normalize=True)"
   ]
  },
  {
   "cell_type": "markdown",
   "metadata": {},
   "source": [
    "### 1.2 Train-Validation-Holdout Split\n",
    "\n",
    "- Train: 80%\n",
    "- Validation: 10%\n",
    "- Holdout (Test): 10%"
   ]
  },
  {
   "cell_type": "code",
   "execution_count": 3,
   "metadata": {},
   "outputs": [],
   "source": [
    "RANDOM_SEED = 42\n",
    "VALIDATION_SIZE = 0.1\n",
    "HOLDOUT_SIZE = 0.1\n",
    "\n",
    "stratify_cols = pd.concat([treatment, target], axis=1)\n",
    "X_train_val, X_holdout, y_train_val, y_holdout, trmnt_train_val, trmnt_holdout = train_test_split(\n",
    "    features,\n",
    "    target,\n",
    "    treatment,\n",
    "    test_size=HOLDOUT_SIZE,\n",
    "    random_state=RANDOM_SEED,\n",
    "    stratify=stratify_cols,\n",
    ")\n",
    "\n",
    "X_train, X_val, y_train, y_val, trmnt_train, trmnt_val = train_test_split(\n",
    "    X_train_val,\n",
    "    y_train_val,\n",
    "    trmnt_train_val,\n",
    "    test_size=VALIDATION_SIZE / (1 - HOLDOUT_SIZE),\n",
    "    random_state=RANDOM_SEED,\n",
    "    stratify=stratify_cols.loc[X_train_val.index],\n",
    ")"
   ]
  },
  {
   "cell_type": "code",
   "execution_count": 4,
   "metadata": {},
   "outputs": [
    {
     "name": "stdout",
     "output_type": "stream",
     "text": [
      "0    0.997083\n",
      "1    0.002917\n",
      "Name: conversion, dtype: Float64\n",
      "0    0.997084\n",
      "1    0.002916\n",
      "Name: conversion, dtype: Float64\n",
      "0    0.997084\n",
      "1    0.002916\n",
      "Name: conversion, dtype: Float64\n"
     ]
    }
   ],
   "source": [
    "print(y_train.value_counts(normalize=True))\n",
    "print(y_val.value_counts(normalize=True))\n",
    "print(y_holdout.value_counts(normalize=True))"
   ]
  },
  {
   "cell_type": "code",
   "execution_count": 5,
   "metadata": {},
   "outputs": [
    {
     "name": "stdout",
     "output_type": "stream",
     "text": [
      "1    0.85\n",
      "0    0.15\n",
      "Name: treatment, dtype: Float64\n",
      "1    0.85\n",
      "0    0.15\n",
      "Name: treatment, dtype: Float64\n",
      "1    0.85\n",
      "0    0.15\n",
      "Name: treatment, dtype: Float64\n"
     ]
    }
   ],
   "source": [
    "print(trmnt_train.value_counts(normalize=True))\n",
    "print(trmnt_val.value_counts(normalize=True))\n",
    "print(trmnt_holdout.value_counts(normalize=True))"
   ]
  },
  {
   "cell_type": "markdown",
   "metadata": {},
   "source": [
    "### 1.3 Add treatment flag as a feature"
   ]
  },
  {
   "cell_type": "code",
   "execution_count": 20,
   "metadata": {},
   "outputs": [],
   "source": [
    "X_train[\"f12_trmnt\"] = trmnt_train.astype(int)\n",
    "X_val[\"f12_trmnt\"] = trmnt_val.astype(int)"
   ]
  },
  {
   "cell_type": "markdown",
   "metadata": {},
   "source": [
    "## 2.0 Modelling"
   ]
  },
  {
   "cell_type": "code",
   "execution_count": 7,
   "metadata": {},
   "outputs": [],
   "source": [
    "IS_UNBALANCE = True\n",
    "N_ESTIMATORS = 1000\n",
    "\n",
    "y_train = y_train.astype(int)\n",
    "y_val = y_val.astype(int)\n",
    "y_holdout = y_holdout.astype(int)"
   ]
  },
  {
   "cell_type": "markdown",
   "metadata": {},
   "source": [
    "### 2.1 Optuna Hyperparameter Tuning"
   ]
  },
  {
   "cell_type": "code",
   "execution_count": 8,
   "metadata": {},
   "outputs": [
    {
     "name": "stderr",
     "output_type": "stream",
     "text": [
      "[I 2025-03-02 14:14:32,292] A new study created in memory with name: lgbm_s_learner\n"
     ]
    },
    {
     "name": "stdout",
     "output_type": "stream",
     "text": [
      "[LightGBM] [Warning] early_stopping_round is set=79, early_stopping_rounds=79 will be ignored. Current value: early_stopping_round=79\n",
      "[1]\tvalid_0's binary_logloss: 0.087122\n",
      "[2]\tvalid_0's binary_logloss: 0.0900355\n",
      "[3]\tvalid_0's binary_logloss: 0.0928595\n",
      "[4]\tvalid_0's binary_logloss: 0.0953725\n",
      "[5]\tvalid_0's binary_logloss: 0.0980239\n",
      "[6]\tvalid_0's binary_logloss: 0.100534\n",
      "[7]\tvalid_0's binary_logloss: 0.103008\n",
      "[8]\tvalid_0's binary_logloss: 0.1054\n",
      "[9]\tvalid_0's binary_logloss: 0.107798\n",
      "[10]\tvalid_0's binary_logloss: 0.110127\n",
      "[11]\tvalid_0's binary_logloss: 0.112432\n",
      "[12]\tvalid_0's binary_logloss: 0.114766\n",
      "[13]\tvalid_0's binary_logloss: 0.117019\n",
      "[14]\tvalid_0's binary_logloss: 0.119226\n",
      "[15]\tvalid_0's binary_logloss: 0.121376\n",
      "[16]\tvalid_0's binary_logloss: 0.123485\n",
      "[17]\tvalid_0's binary_logloss: 0.125629\n",
      "[18]\tvalid_0's binary_logloss: 0.127686\n",
      "[19]\tvalid_0's binary_logloss: 0.129712\n",
      "[20]\tvalid_0's binary_logloss: 0.131676\n",
      "[21]\tvalid_0's binary_logloss: 0.133588\n",
      "[22]\tvalid_0's binary_logloss: 0.13554\n",
      "[23]\tvalid_0's binary_logloss: 0.137379\n",
      "[24]\tvalid_0's binary_logloss: 0.139161\n",
      "[25]\tvalid_0's binary_logloss: 0.140933\n",
      "[26]\tvalid_0's binary_logloss: 0.14272\n",
      "[27]\tvalid_0's binary_logloss: 0.144463\n",
      "[28]\tvalid_0's binary_logloss: 0.146136\n",
      "[29]\tvalid_0's binary_logloss: 0.1478\n",
      "[30]\tvalid_0's binary_logloss: 0.149405\n",
      "[31]\tvalid_0's binary_logloss: 0.150955\n",
      "[32]\tvalid_0's binary_logloss: 0.152532\n",
      "[33]\tvalid_0's binary_logloss: 0.154092\n",
      "[34]\tvalid_0's binary_logloss: 0.155612\n",
      "[35]\tvalid_0's binary_logloss: 0.157115\n",
      "[36]\tvalid_0's binary_logloss: 0.158622\n",
      "[37]\tvalid_0's binary_logloss: 0.160004\n",
      "[38]\tvalid_0's binary_logloss: 0.161438\n",
      "[39]\tvalid_0's binary_logloss: 0.16283\n",
      "[40]\tvalid_0's binary_logloss: 0.164212\n",
      "[41]\tvalid_0's binary_logloss: 0.165527\n",
      "[42]\tvalid_0's binary_logloss: 0.16683\n",
      "[43]\tvalid_0's binary_logloss: 0.168162\n",
      "[44]\tvalid_0's binary_logloss: 0.169379\n",
      "[45]\tvalid_0's binary_logloss: 0.170605\n",
      "[46]\tvalid_0's binary_logloss: 0.171839\n",
      "[47]\tvalid_0's binary_logloss: 0.172993\n",
      "[48]\tvalid_0's binary_logloss: 0.17416\n",
      "[49]\tvalid_0's binary_logloss: 0.175274\n",
      "[50]\tvalid_0's binary_logloss: 0.176331\n",
      "[51]\tvalid_0's binary_logloss: 0.177413\n",
      "[52]\tvalid_0's binary_logloss: 0.178469\n",
      "[53]\tvalid_0's binary_logloss: 0.179558\n",
      "[54]\tvalid_0's binary_logloss: 0.180591\n",
      "[55]\tvalid_0's binary_logloss: 0.181608\n",
      "[56]\tvalid_0's binary_logloss: 0.182591\n",
      "[57]\tvalid_0's binary_logloss: 0.183627\n",
      "[58]\tvalid_0's binary_logloss: 0.184582\n",
      "[59]\tvalid_0's binary_logloss: 0.185511\n",
      "[60]\tvalid_0's binary_logloss: 0.186423\n",
      "[61]\tvalid_0's binary_logloss: 0.187341\n",
      "[62]\tvalid_0's binary_logloss: 0.188252\n",
      "[63]\tvalid_0's binary_logloss: 0.189114\n",
      "[64]\tvalid_0's binary_logloss: 0.189979\n",
      "[65]\tvalid_0's binary_logloss: 0.190769\n",
      "[66]\tvalid_0's binary_logloss: 0.191583\n",
      "[67]\tvalid_0's binary_logloss: 0.192364\n",
      "[68]\tvalid_0's binary_logloss: 0.193099\n",
      "[69]\tvalid_0's binary_logloss: 0.193792\n",
      "[70]\tvalid_0's binary_logloss: 0.194521\n",
      "[71]\tvalid_0's binary_logloss: 0.195196\n",
      "[72]\tvalid_0's binary_logloss: 0.195939\n",
      "[73]\tvalid_0's binary_logloss: 0.196603\n",
      "[74]\tvalid_0's binary_logloss: 0.197351\n",
      "[75]\tvalid_0's binary_logloss: 0.198009\n",
      "[76]\tvalid_0's binary_logloss: 0.198653\n",
      "[77]\tvalid_0's binary_logloss: 0.199315\n",
      "[78]\tvalid_0's binary_logloss: 0.19996\n",
      "[79]\tvalid_0's binary_logloss: 0.200543\n",
      "[80]\tvalid_0's binary_logloss: 0.201082\n"
     ]
    },
    {
     "name": "stderr",
     "output_type": "stream",
     "text": [
      "[I 2025-03-02 14:15:29,628] Trial 0 finished with value: 0.9534433608495774 and parameters: {'learning_rate': 0.022318482356562436, 'num_leaves': 215, 'min_child_samples': 3, 'subsample': 0.5093639177774585, 'colsample_bytree': 0.6326410771462141, 'reg_alpha': 0.5290838565731685, 'reg_lambda': 2.8623186848700923, 'min_child_weight': 0.004189992149556215, 'early_stopping_rounds': 79}. Best is trial 0 with value: 0.9534433608495774.\n"
     ]
    },
    {
     "name": "stdout",
     "output_type": "stream",
     "text": [
      "[LightGBM] [Warning] early_stopping_round is set=54, early_stopping_rounds=54 will be ignored. Current value: early_stopping_round=54\n",
      "[1]\tvalid_0's binary_logloss: 18.8803\n",
      "[2]\tvalid_0's binary_logloss: 0.1687\n",
      "[3]\tvalid_0's binary_logloss: 10.8942\n",
      "[4]\tvalid_0's binary_logloss: 6.1361\n",
      "[5]\tvalid_0's binary_logloss: 18.2161\n",
      "[6]\tvalid_0's binary_logloss: 0.587892\n",
      "[7]\tvalid_0's binary_logloss: 0.587892\n",
      "[8]\tvalid_0's binary_logloss: 0.587892\n",
      "[9]\tvalid_0's binary_logloss: 0.587892\n",
      "[10]\tvalid_0's binary_logloss: 0.587892\n",
      "[11]\tvalid_0's binary_logloss: 0.587892\n",
      "[12]\tvalid_0's binary_logloss: 0.587892\n",
      "[13]\tvalid_0's binary_logloss: 0.587892\n",
      "[14]\tvalid_0's binary_logloss: 0.587892\n",
      "[15]\tvalid_0's binary_logloss: 0.587892\n",
      "[16]\tvalid_0's binary_logloss: 0.587892\n",
      "[17]\tvalid_0's binary_logloss: 0.587892\n",
      "[18]\tvalid_0's binary_logloss: 0.587892\n",
      "[19]\tvalid_0's binary_logloss: 0.587892\n",
      "[20]\tvalid_0's binary_logloss: 0.587892\n",
      "[21]\tvalid_0's binary_logloss: 0.587892\n",
      "[22]\tvalid_0's binary_logloss: 0.587892\n",
      "[23]\tvalid_0's binary_logloss: 0.587892\n",
      "[24]\tvalid_0's binary_logloss: 0.587892\n",
      "[25]\tvalid_0's binary_logloss: 0.587892\n",
      "[26]\tvalid_0's binary_logloss: 0.587892\n",
      "[27]\tvalid_0's binary_logloss: 0.587892\n",
      "[28]\tvalid_0's binary_logloss: 0.587892\n",
      "[29]\tvalid_0's binary_logloss: 0.587892\n",
      "[30]\tvalid_0's binary_logloss: 0.587892\n",
      "[31]\tvalid_0's binary_logloss: 0.587892\n",
      "[32]\tvalid_0's binary_logloss: 0.587892\n",
      "[33]\tvalid_0's binary_logloss: 0.587892\n",
      "[34]\tvalid_0's binary_logloss: 0.587892\n",
      "[35]\tvalid_0's binary_logloss: 0.587892\n",
      "[36]\tvalid_0's binary_logloss: 0.587892\n",
      "[37]\tvalid_0's binary_logloss: 0.587892\n",
      "[38]\tvalid_0's binary_logloss: 0.587892\n",
      "[39]\tvalid_0's binary_logloss: 0.587892\n",
      "[40]\tvalid_0's binary_logloss: 0.587892\n",
      "[41]\tvalid_0's binary_logloss: 0.587892\n",
      "[42]\tvalid_0's binary_logloss: 0.587892\n",
      "[43]\tvalid_0's binary_logloss: 0.587892\n",
      "[44]\tvalid_0's binary_logloss: 0.587892\n",
      "[45]\tvalid_0's binary_logloss: 0.587892\n",
      "[46]\tvalid_0's binary_logloss: 0.587892\n",
      "[47]\tvalid_0's binary_logloss: 0.587892\n",
      "[48]\tvalid_0's binary_logloss: 0.587892\n",
      "[49]\tvalid_0's binary_logloss: 0.587892\n",
      "[50]\tvalid_0's binary_logloss: 0.587892\n",
      "[51]\tvalid_0's binary_logloss: 0.587892\n",
      "[52]\tvalid_0's binary_logloss: 0.587892\n",
      "[53]\tvalid_0's binary_logloss: 0.587892\n",
      "[54]\tvalid_0's binary_logloss: 0.587892\n",
      "[55]\tvalid_0's binary_logloss: 0.587892\n",
      "[56]\tvalid_0's binary_logloss: 0.587892\n"
     ]
    },
    {
     "name": "stderr",
     "output_type": "stream",
     "text": [
      "[I 2025-03-02 14:15:51,561] Trial 1 finished with value: 0.512444207259688 and parameters: {'learning_rate': 0.4412691103098801, 'num_leaves': 98, 'min_child_samples': 41, 'subsample': 0.8884910839942195, 'colsample_bytree': 0.5387112015624783, 'reg_alpha': 1.0374100711451775, 'reg_lambda': 0.009177270386871245, 'min_child_weight': 2.1169870772761774, 'early_stopping_rounds': 54}. Best is trial 0 with value: 0.9534433608495774.\n"
     ]
    },
    {
     "name": "stdout",
     "output_type": "stream",
     "text": [
      "[LightGBM] [Warning] early_stopping_round is set=30, early_stopping_rounds=30 will be ignored. Current value: early_stopping_round=30\n",
      "[1]\tvalid_0's binary_logloss: 5.13318\n",
      "[2]\tvalid_0's binary_logloss: 1.58582\n",
      "[3]\tvalid_0's binary_logloss: 3.82119\n",
      "[4]\tvalid_0's binary_logloss: 2.30109\n",
      "[5]\tvalid_0's binary_logloss: 4.60218\n",
      "[6]\tvalid_0's binary_logloss: 4.28581\n",
      "[7]\tvalid_0's binary_logloss: 3.77574\n",
      "[8]\tvalid_0's binary_logloss: 1.49969\n",
      "[9]\tvalid_0's binary_logloss: 2.16444\n",
      "[10]\tvalid_0's binary_logloss: 4.45145\n",
      "[11]\tvalid_0's binary_logloss: 4.41257\n",
      "[12]\tvalid_0's binary_logloss: 2.80539\n",
      "[13]\tvalid_0's binary_logloss: 1.89903\n",
      "[14]\tvalid_0's binary_logloss: 1.94696\n",
      "[15]\tvalid_0's binary_logloss: 2.65199\n",
      "[16]\tvalid_0's binary_logloss: 2.45789\n",
      "[17]\tvalid_0's binary_logloss: 2.30362\n",
      "[18]\tvalid_0's binary_logloss: 3.23805\n",
      "[19]\tvalid_0's binary_logloss: 3.23551\n",
      "[20]\tvalid_0's binary_logloss: 2.61196\n",
      "[21]\tvalid_0's binary_logloss: 2.61287\n",
      "[22]\tvalid_0's binary_logloss: 2.16492\n",
      "[23]\tvalid_0's binary_logloss: 2.2932\n",
      "[24]\tvalid_0's binary_logloss: 1.80398\n",
      "[25]\tvalid_0's binary_logloss: 1.96015\n",
      "[26]\tvalid_0's binary_logloss: 2.03444\n",
      "[27]\tvalid_0's binary_logloss: 2.00289\n",
      "[28]\tvalid_0's binary_logloss: 1.99358\n",
      "[29]\tvalid_0's binary_logloss: 1.9903\n",
      "[30]\tvalid_0's binary_logloss: 2.00305\n",
      "[31]\tvalid_0's binary_logloss: 2.00268\n",
      "[32]\tvalid_0's binary_logloss: 1.98834\n",
      "[33]\tvalid_0's binary_logloss: 1.98624\n",
      "[34]\tvalid_0's binary_logloss: 1.98739\n",
      "[35]\tvalid_0's binary_logloss: 1.9862\n",
      "[36]\tvalid_0's binary_logloss: 1.98745\n",
      "[37]\tvalid_0's binary_logloss: 1.98558\n",
      "[38]\tvalid_0's binary_logloss: 1.9873\n"
     ]
    },
    {
     "name": "stderr",
     "output_type": "stream",
     "text": [
      "[I 2025-03-02 14:16:14,802] Trial 2 finished with value: 0.8316439674461147 and parameters: {'learning_rate': 0.1443437751621256, 'num_leaves': 93, 'min_child_samples': 28, 'subsample': 0.5400764516184124, 'colsample_bytree': 0.5029812617920388, 'reg_alpha': 0.028734480809593916, 'reg_lambda': 31.749538386934542, 'min_child_weight': 0.06722893723751942, 'early_stopping_rounds': 30}. Best is trial 0 with value: 0.9534433608495774.\n"
     ]
    },
    {
     "name": "stdout",
     "output_type": "stream",
     "text": [
      "[LightGBM] [Warning] early_stopping_round is set=57, early_stopping_rounds=57 will be ignored. Current value: early_stopping_round=57\n",
      "[1]\tvalid_0's binary_logloss: 6.8028\n",
      "[2]\tvalid_0's binary_logloss: 0.403186\n",
      "[3]\tvalid_0's binary_logloss: 6.75834\n",
      "[4]\tvalid_0's binary_logloss: 6.63625\n",
      "[5]\tvalid_0's binary_logloss: 4.56171\n",
      "[6]\tvalid_0's binary_logloss: 4.75639\n",
      "[7]\tvalid_0's binary_logloss: 4.33751\n",
      "[8]\tvalid_0's binary_logloss: 4.80385\n",
      "[9]\tvalid_0's binary_logloss: 4.34044\n",
      "[10]\tvalid_0's binary_logloss: 4.46132\n",
      "[11]\tvalid_0's binary_logloss: 4.47637\n",
      "[12]\tvalid_0's binary_logloss: 4.39744\n",
      "[13]\tvalid_0's binary_logloss: 4.29039\n",
      "[14]\tvalid_0's binary_logloss: 4.279\n",
      "[15]\tvalid_0's binary_logloss: 4.02271\n",
      "[16]\tvalid_0's binary_logloss: 4.18997\n",
      "[17]\tvalid_0's binary_logloss: 4.03635\n",
      "[18]\tvalid_0's binary_logloss: 4.10765\n",
      "[19]\tvalid_0's binary_logloss: 4.02505\n",
      "[20]\tvalid_0's binary_logloss: 4.3079\n",
      "[21]\tvalid_0's binary_logloss: 3.96743\n",
      "[22]\tvalid_0's binary_logloss: 3.62035\n",
      "[23]\tvalid_0's binary_logloss: 3.64816\n",
      "[24]\tvalid_0's binary_logloss: 3.78778\n",
      "[25]\tvalid_0's binary_logloss: 3.49468\n",
      "[26]\tvalid_0's binary_logloss: 3.64246\n",
      "[27]\tvalid_0's binary_logloss: 3.67246\n",
      "[28]\tvalid_0's binary_logloss: 3.62064\n",
      "[29]\tvalid_0's binary_logloss: 3.57174\n",
      "[30]\tvalid_0's binary_logloss: 3.53294\n",
      "[31]\tvalid_0's binary_logloss: 3.51487\n",
      "[32]\tvalid_0's binary_logloss: 3.52514\n",
      "[33]\tvalid_0's binary_logloss: 3.50846\n",
      "[34]\tvalid_0's binary_logloss: 3.48266\n",
      "[35]\tvalid_0's binary_logloss: 3.45103\n",
      "[36]\tvalid_0's binary_logloss: 3.43802\n",
      "[37]\tvalid_0's binary_logloss: 3.43185\n",
      "[38]\tvalid_0's binary_logloss: 3.49466\n",
      "[39]\tvalid_0's binary_logloss: 3.36795\n",
      "[40]\tvalid_0's binary_logloss: 3.37124\n",
      "[41]\tvalid_0's binary_logloss: 3.36903\n",
      "[42]\tvalid_0's binary_logloss: 3.35939\n",
      "[43]\tvalid_0's binary_logloss: 3.34323\n",
      "[44]\tvalid_0's binary_logloss: 3.34601\n",
      "[45]\tvalid_0's binary_logloss: 3.33657\n",
      "[46]\tvalid_0's binary_logloss: 3.33424\n",
      "[47]\tvalid_0's binary_logloss: 3.32801\n",
      "[48]\tvalid_0's binary_logloss: 3.32436\n",
      "[49]\tvalid_0's binary_logloss: 3.32207\n",
      "[50]\tvalid_0's binary_logloss: 3.31513\n",
      "[51]\tvalid_0's binary_logloss: 3.31007\n",
      "[52]\tvalid_0's binary_logloss: 3.30033\n",
      "[53]\tvalid_0's binary_logloss: 3.29292\n",
      "[54]\tvalid_0's binary_logloss: 3.29257\n",
      "[55]\tvalid_0's binary_logloss: 3.29104\n",
      "[56]\tvalid_0's binary_logloss: 3.29088\n",
      "[57]\tvalid_0's binary_logloss: 3.28294\n",
      "[58]\tvalid_0's binary_logloss: 3.29128\n",
      "[59]\tvalid_0's binary_logloss: 3.2848\n"
     ]
    },
    {
     "name": "stderr",
     "output_type": "stream",
     "text": [
      "[I 2025-03-02 14:17:01,717] Trial 3 finished with value: 0.5079328419384875 and parameters: {'learning_rate': 0.24382643764234999, 'num_leaves': 243, 'min_child_samples': 43, 'subsample': 0.9054816030415014, 'colsample_bytree': 0.8498279762735138, 'reg_alpha': 0.6946694485422535, 'reg_lambda': 29.58075087659789, 'min_child_weight': 0.12468853557881805, 'early_stopping_rounds': 57}. Best is trial 0 with value: 0.9534433608495774.\n"
     ]
    },
    {
     "name": "stdout",
     "output_type": "stream",
     "text": [
      "[LightGBM] [Warning] early_stopping_round is set=28, early_stopping_rounds=28 will be ignored. Current value: early_stopping_round=28\n",
      "[1]\tvalid_0's binary_logloss: 0.0164384\n",
      "[2]\tvalid_0's binary_logloss: 0.0167854\n",
      "[3]\tvalid_0's binary_logloss: 0.0172645\n",
      "[4]\tvalid_0's binary_logloss: 0.0178982\n",
      "[5]\tvalid_0's binary_logloss: 0.0185064\n",
      "[6]\tvalid_0's binary_logloss: 0.0191458\n",
      "[7]\tvalid_0's binary_logloss: 0.0198126\n",
      "[8]\tvalid_0's binary_logloss: 0.0205157\n",
      "[9]\tvalid_0's binary_logloss: 0.0212182\n",
      "[10]\tvalid_0's binary_logloss: 0.0219467\n",
      "[11]\tvalid_0's binary_logloss: 0.0226695\n",
      "[12]\tvalid_0's binary_logloss: 0.0234062\n",
      "[13]\tvalid_0's binary_logloss: 0.0241541\n",
      "[14]\tvalid_0's binary_logloss: 0.0249017\n",
      "[15]\tvalid_0's binary_logloss: 0.025655\n",
      "[16]\tvalid_0's binary_logloss: 0.0264112\n",
      "[17]\tvalid_0's binary_logloss: 0.0271723\n",
      "[18]\tvalid_0's binary_logloss: 0.0279389\n",
      "[19]\tvalid_0's binary_logloss: 0.0287101\n",
      "[20]\tvalid_0's binary_logloss: 0.0294821\n",
      "[21]\tvalid_0's binary_logloss: 0.0302539\n",
      "[22]\tvalid_0's binary_logloss: 0.0310308\n",
      "[23]\tvalid_0's binary_logloss: 0.0318054\n",
      "[24]\tvalid_0's binary_logloss: 0.0325792\n",
      "[25]\tvalid_0's binary_logloss: 0.0333507\n",
      "[26]\tvalid_0's binary_logloss: 0.0341327\n",
      "[27]\tvalid_0's binary_logloss: 0.0349133\n",
      "[28]\tvalid_0's binary_logloss: 0.0356885\n",
      "[29]\tvalid_0's binary_logloss: 0.0364646\n"
     ]
    },
    {
     "name": "stderr",
     "output_type": "stream",
     "text": [
      "[I 2025-03-02 14:17:33,647] Trial 4 finished with value: 0.9577968348372715 and parameters: {'learning_rate': 0.0065905503578600816, 'num_leaves': 167, 'min_child_samples': 31, 'subsample': 0.5736468164840244, 'colsample_bytree': 0.7911396664232997, 'reg_alpha': 0.0060725784039746804, 'reg_lambda': 0.182697414120272, 'min_child_weight': 18.162668102386867, 'early_stopping_rounds': 28}. Best is trial 4 with value: 0.9577968348372715.\n"
     ]
    },
    {
     "name": "stdout",
     "output_type": "stream",
     "text": [
      "Best params: {'learning_rate': 0.0065905503578600816, 'num_leaves': 167, 'min_child_samples': 31, 'subsample': 0.5736468164840244, 'colsample_bytree': 0.7911396664232997, 'reg_alpha': 0.0060725784039746804, 'reg_lambda': 0.182697414120272, 'min_child_weight': 18.162668102386867, 'early_stopping_rounds': 28}\n",
      "Best value: 0.9577968348372715\n"
     ]
    }
   ],
   "source": [
    "def objective(trial):\n",
    "    params = {\n",
    "        \"learning_rate\": trial.suggest_float(\"learning_rate\", 1e-3, 5e-1, log=True),\n",
    "        \"num_leaves\": trial.suggest_int(\"num_leaves\", 2, 256),\n",
    "        \"min_child_samples\": trial.suggest_int(\"min_child_samples\", 3, 50),\n",
    "        \"subsample\": trial.suggest_float(\"subsample\", 0.5, 1.0),\n",
    "        \"colsample_bytree\": trial.suggest_float(\"colsample_bytree\", 0.5, 1.0),\n",
    "        \"reg_alpha\": trial.suggest_float(\"reg_alpha\", 1e-3, 1e2, log=True),\n",
    "        \"reg_lambda\": trial.suggest_float(\"reg_lambda\", 1e-3, 1e2, log=True),\n",
    "        \"min_child_weight\": trial.suggest_float(\"min_child_weight\", 1e-3, 1e2, log=True),\n",
    "        \"early_stopping_rounds\": trial.suggest_int(\"early_stopping_rounds\", 10, 100),\n",
    "        \"n_estimators\": N_ESTIMATORS,\n",
    "        \"objective\": \"binary\",\n",
    "        \"random_state\": RANDOM_SEED,\n",
    "        \"boosting_type\": \"gbdt\",\n",
    "        \"importance_type\": \"gain\",\n",
    "        \"is_unbalance\": IS_UNBALANCE,\n",
    "        \"verbose\": -1,\n",
    "    }\n",
    "    \n",
    "    model = LGBMClassifier(\n",
    "        **params\n",
    "    )\n",
    "    model.fit(\n",
    "        X_train,\n",
    "        y_train,\n",
    "        eval_set=[(X_val, y_val)],\n",
    "    )\n",
    "    \n",
    "    calibrated_model_isotonic = CalibratedClassifierCV(model, method=\"isotonic\", cv=\"prefit\")\n",
    "    calibrated_model_isotonic.fit(\n",
    "        X_val, \n",
    "        y_val,\n",
    "    )\n",
    "    \n",
    "    auc = roc_auc_score(\n",
    "        y_val,\n",
    "        calibrated_model_isotonic.predict_proba(X_val)[:, 1]\n",
    "    )\n",
    "    return auc\n",
    "\n",
    "study_lgbm = optuna.create_study(\n",
    "    direction=\"maximize\", study_name=\"lgbm_s_learner\"\n",
    ")\n",
    "study_lgbm.optimize(objective, n_trials=5) # increase n_trials to get better results\n",
    "best_params = study_lgbm.best_params\n",
    "print(f\"Best params: {best_params}\")\n",
    "print(f\"Best value: {study_lgbm.best_value}\")    "
   ]
  },
  {
   "cell_type": "code",
   "execution_count": 9,
   "metadata": {},
   "outputs": [
    {
     "data": {
      "application/vnd.plotly.v1+json": {
       "config": {
        "plotlyServerURL": "https://plot.ly"
       },
       "data": [
        {
         "mode": "markers",
         "name": "Objective Value",
         "type": "scatter",
         "x": [
          0,
          1,
          2,
          3,
          4
         ],
         "y": [
          0.9534433608495774,
          0.512444207259688,
          0.8316439674461147,
          0.5079328419384875,
          0.9577968348372715
         ]
        },
        {
         "mode": "lines",
         "name": "Best Value",
         "type": "scatter",
         "x": [
          0,
          1,
          2,
          3,
          4
         ],
         "y": [
          0.9534433608495774,
          0.9534433608495774,
          0.9534433608495774,
          0.9534433608495774,
          0.9577968348372715
         ]
        },
        {
         "marker": {
          "color": "#cccccc"
         },
         "mode": "markers",
         "name": "Infeasible Trial",
         "showlegend": false,
         "type": "scatter",
         "x": [],
         "y": []
        }
       ],
       "layout": {
        "template": {
         "data": {
          "bar": [
           {
            "error_x": {
             "color": "#2a3f5f"
            },
            "error_y": {
             "color": "#2a3f5f"
            },
            "marker": {
             "line": {
              "color": "#E5ECF6",
              "width": 0.5
             },
             "pattern": {
              "fillmode": "overlay",
              "size": 10,
              "solidity": 0.2
             }
            },
            "type": "bar"
           }
          ],
          "barpolar": [
           {
            "marker": {
             "line": {
              "color": "#E5ECF6",
              "width": 0.5
             },
             "pattern": {
              "fillmode": "overlay",
              "size": 10,
              "solidity": 0.2
             }
            },
            "type": "barpolar"
           }
          ],
          "carpet": [
           {
            "aaxis": {
             "endlinecolor": "#2a3f5f",
             "gridcolor": "white",
             "linecolor": "white",
             "minorgridcolor": "white",
             "startlinecolor": "#2a3f5f"
            },
            "baxis": {
             "endlinecolor": "#2a3f5f",
             "gridcolor": "white",
             "linecolor": "white",
             "minorgridcolor": "white",
             "startlinecolor": "#2a3f5f"
            },
            "type": "carpet"
           }
          ],
          "choropleth": [
           {
            "colorbar": {
             "outlinewidth": 0,
             "ticks": ""
            },
            "type": "choropleth"
           }
          ],
          "contour": [
           {
            "colorbar": {
             "outlinewidth": 0,
             "ticks": ""
            },
            "colorscale": [
             [
              0,
              "#0d0887"
             ],
             [
              0.1111111111111111,
              "#46039f"
             ],
             [
              0.2222222222222222,
              "#7201a8"
             ],
             [
              0.3333333333333333,
              "#9c179e"
             ],
             [
              0.4444444444444444,
              "#bd3786"
             ],
             [
              0.5555555555555556,
              "#d8576b"
             ],
             [
              0.6666666666666666,
              "#ed7953"
             ],
             [
              0.7777777777777778,
              "#fb9f3a"
             ],
             [
              0.8888888888888888,
              "#fdca26"
             ],
             [
              1,
              "#f0f921"
             ]
            ],
            "type": "contour"
           }
          ],
          "contourcarpet": [
           {
            "colorbar": {
             "outlinewidth": 0,
             "ticks": ""
            },
            "type": "contourcarpet"
           }
          ],
          "heatmap": [
           {
            "colorbar": {
             "outlinewidth": 0,
             "ticks": ""
            },
            "colorscale": [
             [
              0,
              "#0d0887"
             ],
             [
              0.1111111111111111,
              "#46039f"
             ],
             [
              0.2222222222222222,
              "#7201a8"
             ],
             [
              0.3333333333333333,
              "#9c179e"
             ],
             [
              0.4444444444444444,
              "#bd3786"
             ],
             [
              0.5555555555555556,
              "#d8576b"
             ],
             [
              0.6666666666666666,
              "#ed7953"
             ],
             [
              0.7777777777777778,
              "#fb9f3a"
             ],
             [
              0.8888888888888888,
              "#fdca26"
             ],
             [
              1,
              "#f0f921"
             ]
            ],
            "type": "heatmap"
           }
          ],
          "histogram": [
           {
            "marker": {
             "pattern": {
              "fillmode": "overlay",
              "size": 10,
              "solidity": 0.2
             }
            },
            "type": "histogram"
           }
          ],
          "histogram2d": [
           {
            "colorbar": {
             "outlinewidth": 0,
             "ticks": ""
            },
            "colorscale": [
             [
              0,
              "#0d0887"
             ],
             [
              0.1111111111111111,
              "#46039f"
             ],
             [
              0.2222222222222222,
              "#7201a8"
             ],
             [
              0.3333333333333333,
              "#9c179e"
             ],
             [
              0.4444444444444444,
              "#bd3786"
             ],
             [
              0.5555555555555556,
              "#d8576b"
             ],
             [
              0.6666666666666666,
              "#ed7953"
             ],
             [
              0.7777777777777778,
              "#fb9f3a"
             ],
             [
              0.8888888888888888,
              "#fdca26"
             ],
             [
              1,
              "#f0f921"
             ]
            ],
            "type": "histogram2d"
           }
          ],
          "histogram2dcontour": [
           {
            "colorbar": {
             "outlinewidth": 0,
             "ticks": ""
            },
            "colorscale": [
             [
              0,
              "#0d0887"
             ],
             [
              0.1111111111111111,
              "#46039f"
             ],
             [
              0.2222222222222222,
              "#7201a8"
             ],
             [
              0.3333333333333333,
              "#9c179e"
             ],
             [
              0.4444444444444444,
              "#bd3786"
             ],
             [
              0.5555555555555556,
              "#d8576b"
             ],
             [
              0.6666666666666666,
              "#ed7953"
             ],
             [
              0.7777777777777778,
              "#fb9f3a"
             ],
             [
              0.8888888888888888,
              "#fdca26"
             ],
             [
              1,
              "#f0f921"
             ]
            ],
            "type": "histogram2dcontour"
           }
          ],
          "mesh3d": [
           {
            "colorbar": {
             "outlinewidth": 0,
             "ticks": ""
            },
            "type": "mesh3d"
           }
          ],
          "parcoords": [
           {
            "line": {
             "colorbar": {
              "outlinewidth": 0,
              "ticks": ""
             }
            },
            "type": "parcoords"
           }
          ],
          "pie": [
           {
            "automargin": true,
            "type": "pie"
           }
          ],
          "scatter": [
           {
            "fillpattern": {
             "fillmode": "overlay",
             "size": 10,
             "solidity": 0.2
            },
            "type": "scatter"
           }
          ],
          "scatter3d": [
           {
            "line": {
             "colorbar": {
              "outlinewidth": 0,
              "ticks": ""
             }
            },
            "marker": {
             "colorbar": {
              "outlinewidth": 0,
              "ticks": ""
             }
            },
            "type": "scatter3d"
           }
          ],
          "scattercarpet": [
           {
            "marker": {
             "colorbar": {
              "outlinewidth": 0,
              "ticks": ""
             }
            },
            "type": "scattercarpet"
           }
          ],
          "scattergeo": [
           {
            "marker": {
             "colorbar": {
              "outlinewidth": 0,
              "ticks": ""
             }
            },
            "type": "scattergeo"
           }
          ],
          "scattergl": [
           {
            "marker": {
             "colorbar": {
              "outlinewidth": 0,
              "ticks": ""
             }
            },
            "type": "scattergl"
           }
          ],
          "scattermap": [
           {
            "marker": {
             "colorbar": {
              "outlinewidth": 0,
              "ticks": ""
             }
            },
            "type": "scattermap"
           }
          ],
          "scattermapbox": [
           {
            "marker": {
             "colorbar": {
              "outlinewidth": 0,
              "ticks": ""
             }
            },
            "type": "scattermapbox"
           }
          ],
          "scatterpolar": [
           {
            "marker": {
             "colorbar": {
              "outlinewidth": 0,
              "ticks": ""
             }
            },
            "type": "scatterpolar"
           }
          ],
          "scatterpolargl": [
           {
            "marker": {
             "colorbar": {
              "outlinewidth": 0,
              "ticks": ""
             }
            },
            "type": "scatterpolargl"
           }
          ],
          "scatterternary": [
           {
            "marker": {
             "colorbar": {
              "outlinewidth": 0,
              "ticks": ""
             }
            },
            "type": "scatterternary"
           }
          ],
          "surface": [
           {
            "colorbar": {
             "outlinewidth": 0,
             "ticks": ""
            },
            "colorscale": [
             [
              0,
              "#0d0887"
             ],
             [
              0.1111111111111111,
              "#46039f"
             ],
             [
              0.2222222222222222,
              "#7201a8"
             ],
             [
              0.3333333333333333,
              "#9c179e"
             ],
             [
              0.4444444444444444,
              "#bd3786"
             ],
             [
              0.5555555555555556,
              "#d8576b"
             ],
             [
              0.6666666666666666,
              "#ed7953"
             ],
             [
              0.7777777777777778,
              "#fb9f3a"
             ],
             [
              0.8888888888888888,
              "#fdca26"
             ],
             [
              1,
              "#f0f921"
             ]
            ],
            "type": "surface"
           }
          ],
          "table": [
           {
            "cells": {
             "fill": {
              "color": "#EBF0F8"
             },
             "line": {
              "color": "white"
             }
            },
            "header": {
             "fill": {
              "color": "#C8D4E3"
             },
             "line": {
              "color": "white"
             }
            },
            "type": "table"
           }
          ]
         },
         "layout": {
          "annotationdefaults": {
           "arrowcolor": "#2a3f5f",
           "arrowhead": 0,
           "arrowwidth": 1
          },
          "autotypenumbers": "strict",
          "coloraxis": {
           "colorbar": {
            "outlinewidth": 0,
            "ticks": ""
           }
          },
          "colorscale": {
           "diverging": [
            [
             0,
             "#8e0152"
            ],
            [
             0.1,
             "#c51b7d"
            ],
            [
             0.2,
             "#de77ae"
            ],
            [
             0.3,
             "#f1b6da"
            ],
            [
             0.4,
             "#fde0ef"
            ],
            [
             0.5,
             "#f7f7f7"
            ],
            [
             0.6,
             "#e6f5d0"
            ],
            [
             0.7,
             "#b8e186"
            ],
            [
             0.8,
             "#7fbc41"
            ],
            [
             0.9,
             "#4d9221"
            ],
            [
             1,
             "#276419"
            ]
           ],
           "sequential": [
            [
             0,
             "#0d0887"
            ],
            [
             0.1111111111111111,
             "#46039f"
            ],
            [
             0.2222222222222222,
             "#7201a8"
            ],
            [
             0.3333333333333333,
             "#9c179e"
            ],
            [
             0.4444444444444444,
             "#bd3786"
            ],
            [
             0.5555555555555556,
             "#d8576b"
            ],
            [
             0.6666666666666666,
             "#ed7953"
            ],
            [
             0.7777777777777778,
             "#fb9f3a"
            ],
            [
             0.8888888888888888,
             "#fdca26"
            ],
            [
             1,
             "#f0f921"
            ]
           ],
           "sequentialminus": [
            [
             0,
             "#0d0887"
            ],
            [
             0.1111111111111111,
             "#46039f"
            ],
            [
             0.2222222222222222,
             "#7201a8"
            ],
            [
             0.3333333333333333,
             "#9c179e"
            ],
            [
             0.4444444444444444,
             "#bd3786"
            ],
            [
             0.5555555555555556,
             "#d8576b"
            ],
            [
             0.6666666666666666,
             "#ed7953"
            ],
            [
             0.7777777777777778,
             "#fb9f3a"
            ],
            [
             0.8888888888888888,
             "#fdca26"
            ],
            [
             1,
             "#f0f921"
            ]
           ]
          },
          "colorway": [
           "#636efa",
           "#EF553B",
           "#00cc96",
           "#ab63fa",
           "#FFA15A",
           "#19d3f3",
           "#FF6692",
           "#B6E880",
           "#FF97FF",
           "#FECB52"
          ],
          "font": {
           "color": "#2a3f5f"
          },
          "geo": {
           "bgcolor": "white",
           "lakecolor": "white",
           "landcolor": "#E5ECF6",
           "showlakes": true,
           "showland": true,
           "subunitcolor": "white"
          },
          "hoverlabel": {
           "align": "left"
          },
          "hovermode": "closest",
          "mapbox": {
           "style": "light"
          },
          "paper_bgcolor": "white",
          "plot_bgcolor": "#E5ECF6",
          "polar": {
           "angularaxis": {
            "gridcolor": "white",
            "linecolor": "white",
            "ticks": ""
           },
           "bgcolor": "#E5ECF6",
           "radialaxis": {
            "gridcolor": "white",
            "linecolor": "white",
            "ticks": ""
           }
          },
          "scene": {
           "xaxis": {
            "backgroundcolor": "#E5ECF6",
            "gridcolor": "white",
            "gridwidth": 2,
            "linecolor": "white",
            "showbackground": true,
            "ticks": "",
            "zerolinecolor": "white"
           },
           "yaxis": {
            "backgroundcolor": "#E5ECF6",
            "gridcolor": "white",
            "gridwidth": 2,
            "linecolor": "white",
            "showbackground": true,
            "ticks": "",
            "zerolinecolor": "white"
           },
           "zaxis": {
            "backgroundcolor": "#E5ECF6",
            "gridcolor": "white",
            "gridwidth": 2,
            "linecolor": "white",
            "showbackground": true,
            "ticks": "",
            "zerolinecolor": "white"
           }
          },
          "shapedefaults": {
           "line": {
            "color": "#2a3f5f"
           }
          },
          "ternary": {
           "aaxis": {
            "gridcolor": "white",
            "linecolor": "white",
            "ticks": ""
           },
           "baxis": {
            "gridcolor": "white",
            "linecolor": "white",
            "ticks": ""
           },
           "bgcolor": "#E5ECF6",
           "caxis": {
            "gridcolor": "white",
            "linecolor": "white",
            "ticks": ""
           }
          },
          "title": {
           "x": 0.05
          },
          "xaxis": {
           "automargin": true,
           "gridcolor": "white",
           "linecolor": "white",
           "ticks": "",
           "title": {
            "standoff": 15
           },
           "zerolinecolor": "white",
           "zerolinewidth": 2
          },
          "yaxis": {
           "automargin": true,
           "gridcolor": "white",
           "linecolor": "white",
           "ticks": "",
           "title": {
            "standoff": 15
           },
           "zerolinecolor": "white",
           "zerolinewidth": 2
          }
         }
        },
        "title": {
         "text": "Optimization History Plot"
        },
        "xaxis": {
         "title": {
          "text": "Trial"
         }
        },
        "yaxis": {
         "title": {
          "text": "Objective Value"
         }
        }
       }
      }
     },
     "metadata": {},
     "output_type": "display_data"
    }
   ],
   "source": [
    "optuna.visualization.plot_optimization_history(study_lgbm)"
   ]
  },
  {
   "cell_type": "markdown",
   "metadata": {},
   "source": [
    "### 2.2 Model Training"
   ]
  },
  {
   "cell_type": "code",
   "execution_count": 12,
   "metadata": {},
   "outputs": [
    {
     "name": "stdout",
     "output_type": "stream",
     "text": [
      "[LightGBM] [Warning] early_stopping_round is set=28, early_stopping_rounds=28 will be ignored. Current value: early_stopping_round=28\n",
      "[1]\tvalid_0's binary_logloss: 0.0164384\n",
      "[2]\tvalid_0's binary_logloss: 0.0167854\n",
      "[3]\tvalid_0's binary_logloss: 0.0172645\n",
      "[4]\tvalid_0's binary_logloss: 0.0178982\n",
      "[5]\tvalid_0's binary_logloss: 0.0185064\n",
      "[6]\tvalid_0's binary_logloss: 0.0191458\n",
      "[7]\tvalid_0's binary_logloss: 0.0198126\n",
      "[8]\tvalid_0's binary_logloss: 0.0205157\n",
      "[9]\tvalid_0's binary_logloss: 0.0212182\n",
      "[10]\tvalid_0's binary_logloss: 0.0219467\n",
      "[11]\tvalid_0's binary_logloss: 0.0226695\n",
      "[12]\tvalid_0's binary_logloss: 0.0234062\n",
      "[13]\tvalid_0's binary_logloss: 0.0241541\n",
      "[14]\tvalid_0's binary_logloss: 0.0249017\n",
      "[15]\tvalid_0's binary_logloss: 0.025655\n",
      "[16]\tvalid_0's binary_logloss: 0.0264112\n",
      "[17]\tvalid_0's binary_logloss: 0.0271723\n",
      "[18]\tvalid_0's binary_logloss: 0.0279389\n",
      "[19]\tvalid_0's binary_logloss: 0.0287101\n",
      "[20]\tvalid_0's binary_logloss: 0.0294821\n",
      "[21]\tvalid_0's binary_logloss: 0.0302539\n",
      "[22]\tvalid_0's binary_logloss: 0.0310308\n",
      "[23]\tvalid_0's binary_logloss: 0.0318054\n",
      "[24]\tvalid_0's binary_logloss: 0.0325792\n",
      "[25]\tvalid_0's binary_logloss: 0.0333507\n",
      "[26]\tvalid_0's binary_logloss: 0.0341327\n",
      "[27]\tvalid_0's binary_logloss: 0.0349133\n",
      "[28]\tvalid_0's binary_logloss: 0.0356885\n",
      "[29]\tvalid_0's binary_logloss: 0.0364646\n"
     ]
    },
    {
     "data": {
      "text/html": [
       "<style>#sk-container-id-1 {color: black;background-color: white;}#sk-container-id-1 pre{padding: 0;}#sk-container-id-1 div.sk-toggleable {background-color: white;}#sk-container-id-1 label.sk-toggleable__label {cursor: pointer;display: block;width: 100%;margin-bottom: 0;padding: 0.3em;box-sizing: border-box;text-align: center;}#sk-container-id-1 label.sk-toggleable__label-arrow:before {content: \"▸\";float: left;margin-right: 0.25em;color: #696969;}#sk-container-id-1 label.sk-toggleable__label-arrow:hover:before {color: black;}#sk-container-id-1 div.sk-estimator:hover label.sk-toggleable__label-arrow:before {color: black;}#sk-container-id-1 div.sk-toggleable__content {max-height: 0;max-width: 0;overflow: hidden;text-align: left;background-color: #f0f8ff;}#sk-container-id-1 div.sk-toggleable__content pre {margin: 0.2em;color: black;border-radius: 0.25em;background-color: #f0f8ff;}#sk-container-id-1 input.sk-toggleable__control:checked~div.sk-toggleable__content {max-height: 200px;max-width: 100%;overflow: auto;}#sk-container-id-1 input.sk-toggleable__control:checked~label.sk-toggleable__label-arrow:before {content: \"▾\";}#sk-container-id-1 div.sk-estimator input.sk-toggleable__control:checked~label.sk-toggleable__label {background-color: #d4ebff;}#sk-container-id-1 div.sk-label input.sk-toggleable__control:checked~label.sk-toggleable__label {background-color: #d4ebff;}#sk-container-id-1 input.sk-hidden--visually {border: 0;clip: rect(1px 1px 1px 1px);clip: rect(1px, 1px, 1px, 1px);height: 1px;margin: -1px;overflow: hidden;padding: 0;position: absolute;width: 1px;}#sk-container-id-1 div.sk-estimator {font-family: monospace;background-color: #f0f8ff;border: 1px dotted black;border-radius: 0.25em;box-sizing: border-box;margin-bottom: 0.5em;}#sk-container-id-1 div.sk-estimator:hover {background-color: #d4ebff;}#sk-container-id-1 div.sk-parallel-item::after {content: \"\";width: 100%;border-bottom: 1px solid gray;flex-grow: 1;}#sk-container-id-1 div.sk-label:hover label.sk-toggleable__label {background-color: #d4ebff;}#sk-container-id-1 div.sk-serial::before {content: \"\";position: absolute;border-left: 1px solid gray;box-sizing: border-box;top: 0;bottom: 0;left: 50%;z-index: 0;}#sk-container-id-1 div.sk-serial {display: flex;flex-direction: column;align-items: center;background-color: white;padding-right: 0.2em;padding-left: 0.2em;position: relative;}#sk-container-id-1 div.sk-item {position: relative;z-index: 1;}#sk-container-id-1 div.sk-parallel {display: flex;align-items: stretch;justify-content: center;background-color: white;position: relative;}#sk-container-id-1 div.sk-item::before, #sk-container-id-1 div.sk-parallel-item::before {content: \"\";position: absolute;border-left: 1px solid gray;box-sizing: border-box;top: 0;bottom: 0;left: 50%;z-index: -1;}#sk-container-id-1 div.sk-parallel-item {display: flex;flex-direction: column;z-index: 1;position: relative;background-color: white;}#sk-container-id-1 div.sk-parallel-item:first-child::after {align-self: flex-end;width: 50%;}#sk-container-id-1 div.sk-parallel-item:last-child::after {align-self: flex-start;width: 50%;}#sk-container-id-1 div.sk-parallel-item:only-child::after {width: 0;}#sk-container-id-1 div.sk-dashed-wrapped {border: 1px dashed gray;margin: 0 0.4em 0.5em 0.4em;box-sizing: border-box;padding-bottom: 0.4em;background-color: white;}#sk-container-id-1 div.sk-label label {font-family: monospace;font-weight: bold;display: inline-block;line-height: 1.2em;}#sk-container-id-1 div.sk-label-container {text-align: center;}#sk-container-id-1 div.sk-container {/* jupyter's `normalize.less` sets `[hidden] { display: none; }` but bootstrap.min.css set `[hidden] { display: none !important; }` so we also need the `!important` here to be able to override the default hidden behavior on the sphinx rendered scikit-learn.org. See: https://github.com/scikit-learn/scikit-learn/issues/21755 */display: inline-block !important;position: relative;}#sk-container-id-1 div.sk-text-repr-fallback {display: none;}</style><div id=\"sk-container-id-1\" class=\"sk-top-container\"><div class=\"sk-text-repr-fallback\"><pre>CalibratedClassifierCV(base_estimator=LGBMClassifier(colsample_bytree=0.7911396664232997,\n",
       "                                                     early_stopping_rounds=28,\n",
       "                                                     importance_type=&#x27;gain&#x27;,\n",
       "                                                     is_unbalance=True,\n",
       "                                                     learning_rate=0.0065905503578600816,\n",
       "                                                     min_child_samples=31,\n",
       "                                                     min_child_weight=18.162668102386867,\n",
       "                                                     n_estimators=1000,\n",
       "                                                     num_leaves=167,\n",
       "                                                     objective=&#x27;binary&#x27;,\n",
       "                                                     random_state=42,\n",
       "                                                     reg_alpha=0.0060725784039746804,\n",
       "                                                     reg_lambda=0.182697414120272,\n",
       "                                                     subsample=0.5736468164840244,\n",
       "                                                     verbose=-1),\n",
       "                       cv=&#x27;prefit&#x27;, method=&#x27;isotonic&#x27;)</pre><b>In a Jupyter environment, please rerun this cell to show the HTML representation or trust the notebook. <br />On GitHub, the HTML representation is unable to render, please try loading this page with nbviewer.org.</b></div><div class=\"sk-container\" hidden><div class=\"sk-item sk-dashed-wrapped\"><div class=\"sk-label-container\"><div class=\"sk-label sk-toggleable\"><input class=\"sk-toggleable__control sk-hidden--visually\" id=\"sk-estimator-id-1\" type=\"checkbox\" ><label for=\"sk-estimator-id-1\" class=\"sk-toggleable__label sk-toggleable__label-arrow\">CalibratedClassifierCV</label><div class=\"sk-toggleable__content\"><pre>CalibratedClassifierCV(base_estimator=LGBMClassifier(colsample_bytree=0.7911396664232997,\n",
       "                                                     early_stopping_rounds=28,\n",
       "                                                     importance_type=&#x27;gain&#x27;,\n",
       "                                                     is_unbalance=True,\n",
       "                                                     learning_rate=0.0065905503578600816,\n",
       "                                                     min_child_samples=31,\n",
       "                                                     min_child_weight=18.162668102386867,\n",
       "                                                     n_estimators=1000,\n",
       "                                                     num_leaves=167,\n",
       "                                                     objective=&#x27;binary&#x27;,\n",
       "                                                     random_state=42,\n",
       "                                                     reg_alpha=0.0060725784039746804,\n",
       "                                                     reg_lambda=0.182697414120272,\n",
       "                                                     subsample=0.5736468164840244,\n",
       "                                                     verbose=-1),\n",
       "                       cv=&#x27;prefit&#x27;, method=&#x27;isotonic&#x27;)</pre></div></div></div><div class=\"sk-parallel\"><div class=\"sk-parallel-item\"><div class=\"sk-item\"><div class=\"sk-label-container\"><div class=\"sk-label sk-toggleable\"><input class=\"sk-toggleable__control sk-hidden--visually\" id=\"sk-estimator-id-2\" type=\"checkbox\" ><label for=\"sk-estimator-id-2\" class=\"sk-toggleable__label sk-toggleable__label-arrow\">base_estimator: LGBMClassifier</label><div class=\"sk-toggleable__content\"><pre>LGBMClassifier(colsample_bytree=0.7911396664232997, early_stopping_rounds=28,\n",
       "               importance_type=&#x27;gain&#x27;, is_unbalance=True,\n",
       "               learning_rate=0.0065905503578600816, min_child_samples=31,\n",
       "               min_child_weight=18.162668102386867, n_estimators=1000,\n",
       "               num_leaves=167, objective=&#x27;binary&#x27;, random_state=42,\n",
       "               reg_alpha=0.0060725784039746804, reg_lambda=0.182697414120272,\n",
       "               subsample=0.5736468164840244, verbose=-1)</pre></div></div></div><div class=\"sk-serial\"><div class=\"sk-item\"><div class=\"sk-estimator sk-toggleable\"><input class=\"sk-toggleable__control sk-hidden--visually\" id=\"sk-estimator-id-3\" type=\"checkbox\" ><label for=\"sk-estimator-id-3\" class=\"sk-toggleable__label sk-toggleable__label-arrow\">LGBMClassifier</label><div class=\"sk-toggleable__content\"><pre>LGBMClassifier(colsample_bytree=0.7911396664232997, early_stopping_rounds=28,\n",
       "               importance_type=&#x27;gain&#x27;, is_unbalance=True,\n",
       "               learning_rate=0.0065905503578600816, min_child_samples=31,\n",
       "               min_child_weight=18.162668102386867, n_estimators=1000,\n",
       "               num_leaves=167, objective=&#x27;binary&#x27;, random_state=42,\n",
       "               reg_alpha=0.0060725784039746804, reg_lambda=0.182697414120272,\n",
       "               subsample=0.5736468164840244, verbose=-1)</pre></div></div></div></div></div></div></div></div></div></div>"
      ],
      "text/plain": [
       "CalibratedClassifierCV(base_estimator=LGBMClassifier(colsample_bytree=0.7911396664232997,\n",
       "                                                     early_stopping_rounds=28,\n",
       "                                                     importance_type='gain',\n",
       "                                                     is_unbalance=True,\n",
       "                                                     learning_rate=0.0065905503578600816,\n",
       "                                                     min_child_samples=31,\n",
       "                                                     min_child_weight=18.162668102386867,\n",
       "                                                     n_estimators=1000,\n",
       "                                                     num_leaves=167,\n",
       "                                                     objective='binary',\n",
       "                                                     random_state=42,\n",
       "                                                     reg_alpha=0.0060725784039746804,\n",
       "                                                     reg_lambda=0.182697414120272,\n",
       "                                                     subsample=0.5736468164840244,\n",
       "                                                     verbose=-1),\n",
       "                       cv='prefit', method='isotonic')"
      ]
     },
     "execution_count": 12,
     "metadata": {},
     "output_type": "execute_result"
    }
   ],
   "source": [
    "model = LGBMClassifier(\n",
    "    **best_params,\n",
    "    importance_type=\"gain\",\n",
    "    n_estimators=N_ESTIMATORS,\n",
    "    random_state=RANDOM_SEED,\n",
    "    boosting_type=\"gbdt\",\n",
    "    objective=\"binary\",\n",
    "    is_unbalance=IS_UNBALANCE,\n",
    "    verbose=-1,\n",
    ")\n",
    "model.fit(\n",
    "    X_train,\n",
    "    y_train,\n",
    "    eval_set=[(X_val, y_val)],\n",
    ")\n",
    "calibrated_model = CalibratedClassifierCV(model, method=\"isotonic\", cv=\"prefit\")\n",
    "calibrated_model.fit(\n",
    "    X_val, \n",
    "    y_val,\n",
    ")"
   ]
  },
  {
   "cell_type": "markdown",
   "metadata": {},
   "source": [
    "## 3.0 Evaluation"
   ]
  },
  {
   "cell_type": "markdown",
   "metadata": {},
   "source": [
    "### 3.1 Validation Set"
   ]
  },
  {
   "cell_type": "code",
   "execution_count": 19,
   "metadata": {},
   "outputs": [
    {
     "name": "stdout",
     "output_type": "stream",
     "text": [
      "Model predicts positive effect in conversion after treatment for 99.93% of cases.\n",
      "Model predicts negative effect in conversion after treatment for 0.0% of cases.\n",
      "Model predicts no effect in conversion after treatment for 0.07% of cases.\n",
      "Uplift at 10% by overall: 0.0036818791827395933\n",
      "Qini coefficient - AUQC: 0.14937917665861927\n",
      "Uplift AUC - AUUC: 0.004779173118348771\n"
     ]
    }
   ],
   "source": [
    "uplift_effect_val = calibrated_model.predict_proba(X_val)[:, 1]\n",
    "get_metrics(y_val, uplift_effect_val, trmnt_val)"
   ]
  },
  {
   "cell_type": "markdown",
   "metadata": {},
   "source": [
    "### 3.2 Holdout Set"
   ]
  },
  {
   "cell_type": "code",
   "execution_count": 21,
   "metadata": {},
   "outputs": [
    {
     "name": "stdout",
     "output_type": "stream",
     "text": [
      "Model predicts positive effect in conversion after treatment for 13.01% of cases.\n",
      "Model predicts negative effect in conversion after treatment for 0.77% of cases.\n",
      "Model predicts no effect in conversion after treatment for 86.21% of cases.\n",
      "Uplift at 10% by overall: 0.004635011851808771\n",
      "Qini coefficient - AUQC: 0.07642832010047636\n",
      "Uplift AUC - AUUC: 0.0024647392210433838\n"
     ]
    }
   ],
   "source": [
    "X_holdout_if_treatment = X_holdout.copy()\n",
    "X_holdout_if_treatment[\"f12_trmnt\"] = 1\n",
    "X_holdout_if_control = X_holdout.copy()\n",
    "X_holdout_if_control[\"f12_trmnt\"] = 0\n",
    "\n",
    "uplift_effect_pred = calibrated_model.predict_proba(X_holdout_if_treatment)[:, 1] - calibrated_model.predict_proba(X_holdout_if_control)[:, 1]\n",
    "get_metrics(y_holdout, uplift_effect_pred, trmnt_holdout)"
   ]
  },
  {
   "cell_type": "code",
   "execution_count": 26,
   "metadata": {},
   "outputs": [
    {
     "data": {
      "text/html": [
       "<div>\n",
       "<style scoped>\n",
       "    .dataframe tbody tr th:only-of-type {\n",
       "        vertical-align: middle;\n",
       "    }\n",
       "\n",
       "    .dataframe tbody tr th {\n",
       "        vertical-align: top;\n",
       "    }\n",
       "\n",
       "    .dataframe thead th {\n",
       "        text-align: right;\n",
       "    }\n",
       "</style>\n",
       "<table border=\"1\" class=\"dataframe\">\n",
       "  <thead>\n",
       "    <tr style=\"text-align: right;\">\n",
       "      <th></th>\n",
       "      <th>percentile</th>\n",
       "      <th>n_treatment</th>\n",
       "      <th>n_control</th>\n",
       "      <th>response_rate_treatment</th>\n",
       "      <th>response_rate_control</th>\n",
       "      <th>uplift</th>\n",
       "    </tr>\n",
       "  </thead>\n",
       "  <tbody>\n",
       "    <tr>\n",
       "      <th>0</th>\n",
       "      <td>0-10</td>\n",
       "      <td>120007</td>\n",
       "      <td>19789</td>\n",
       "      <td>0.006808</td>\n",
       "      <td>0.002173</td>\n",
       "      <td>0.004635</td>\n",
       "    </tr>\n",
       "    <tr>\n",
       "      <th>1</th>\n",
       "      <td>10-20</td>\n",
       "      <td>118697</td>\n",
       "      <td>21099</td>\n",
       "      <td>0.002140</td>\n",
       "      <td>0.001280</td>\n",
       "      <td>0.000860</td>\n",
       "    </tr>\n",
       "    <tr>\n",
       "      <th>2</th>\n",
       "      <td>20-30</td>\n",
       "      <td>118627</td>\n",
       "      <td>21169</td>\n",
       "      <td>0.002773</td>\n",
       "      <td>0.001512</td>\n",
       "      <td>0.001262</td>\n",
       "    </tr>\n",
       "    <tr>\n",
       "      <th>3</th>\n",
       "      <td>30-40</td>\n",
       "      <td>118626</td>\n",
       "      <td>21170</td>\n",
       "      <td>0.002613</td>\n",
       "      <td>0.002220</td>\n",
       "      <td>0.000393</td>\n",
       "    </tr>\n",
       "    <tr>\n",
       "      <th>4</th>\n",
       "      <td>40-50</td>\n",
       "      <td>118594</td>\n",
       "      <td>21202</td>\n",
       "      <td>0.002656</td>\n",
       "      <td>0.002075</td>\n",
       "      <td>0.000581</td>\n",
       "    </tr>\n",
       "    <tr>\n",
       "      <th>5</th>\n",
       "      <td>50-60</td>\n",
       "      <td>118791</td>\n",
       "      <td>21005</td>\n",
       "      <td>0.002719</td>\n",
       "      <td>0.002000</td>\n",
       "      <td>0.000720</td>\n",
       "    </tr>\n",
       "    <tr>\n",
       "      <th>6</th>\n",
       "      <td>60-70</td>\n",
       "      <td>118822</td>\n",
       "      <td>20974</td>\n",
       "      <td>0.002760</td>\n",
       "      <td>0.002146</td>\n",
       "      <td>0.000615</td>\n",
       "    </tr>\n",
       "    <tr>\n",
       "      <th>7</th>\n",
       "      <td>70-80</td>\n",
       "      <td>118603</td>\n",
       "      <td>21193</td>\n",
       "      <td>0.002749</td>\n",
       "      <td>0.001699</td>\n",
       "      <td>0.001050</td>\n",
       "    </tr>\n",
       "    <tr>\n",
       "      <th>8</th>\n",
       "      <td>80-90</td>\n",
       "      <td>118895</td>\n",
       "      <td>20901</td>\n",
       "      <td>0.002994</td>\n",
       "      <td>0.002249</td>\n",
       "      <td>0.000746</td>\n",
       "    </tr>\n",
       "    <tr>\n",
       "      <th>9</th>\n",
       "      <td>90-100</td>\n",
       "      <td>118604</td>\n",
       "      <td>21192</td>\n",
       "      <td>0.002639</td>\n",
       "      <td>0.002029</td>\n",
       "      <td>0.000610</td>\n",
       "    </tr>\n",
       "  </tbody>\n",
       "</table>\n",
       "</div>"
      ],
      "text/plain": [
       "  percentile  n_treatment  n_control  response_rate_treatment  \\\n",
       "0       0-10       120007      19789                 0.006808   \n",
       "1      10-20       118697      21099                 0.002140   \n",
       "2      20-30       118627      21169                 0.002773   \n",
       "3      30-40       118626      21170                 0.002613   \n",
       "4      40-50       118594      21202                 0.002656   \n",
       "5      50-60       118791      21005                 0.002719   \n",
       "6      60-70       118822      20974                 0.002760   \n",
       "7      70-80       118603      21193                 0.002749   \n",
       "8      80-90       118895      20901                 0.002994   \n",
       "9     90-100       118604      21192                 0.002639   \n",
       "\n",
       "   response_rate_control    uplift  \n",
       "0               0.002173  0.004635  \n",
       "1               0.001280  0.000860  \n",
       "2               0.001512  0.001262  \n",
       "3               0.002220  0.000393  \n",
       "4               0.002075  0.000581  \n",
       "5               0.002000  0.000720  \n",
       "6               0.002146  0.000615  \n",
       "7               0.001699  0.001050  \n",
       "8               0.002249  0.000746  \n",
       "9               0.002029  0.000610  "
      ]
     },
     "execution_count": 26,
     "metadata": {},
     "output_type": "execute_result"
    }
   ],
   "source": [
    "uplift_by_percentile_pddf = uplift_by_percentile(\n",
    "    y_holdout, uplift_effect_pred, trmnt_holdout, strategy=\"overall\", bins=10\n",
    ")\n",
    "uplift_by_percentile_pddf.reset_index().head(10)"
   ]
  },
  {
   "cell_type": "code",
   "execution_count": 28,
   "metadata": {},
   "outputs": [
    {
     "data": {
      "text/plain": [
       "<sklift.viz.base.UpliftCurveDisplay at 0x7fbfd8eeca60>"
      ]
     },
     "execution_count": 28,
     "metadata": {},
     "output_type": "execute_result"
    },
    {
     "data": {
      "image/png": "[encoded data removed]",
      "text/plain": [
       "<Figure size 640x480 with 1 Axes>"
      ]
     },
     "metadata": {},
     "output_type": "display_data"
    }
   ],
   "source": [
    "plot_qini_curve(y_holdout, uplift_effect_pred, trmnt_holdout, perfect=True)"
   ]
  },
  {
   "cell_type": "code",
   "execution_count": 29,
   "metadata": {},
   "outputs": [
    {
     "data": {
      "text/plain": [
       "<sklift.viz.base.UpliftCurveDisplay at 0x7fbfd75e92b0>"
      ]
     },
     "execution_count": 29,
     "metadata": {},
     "output_type": "execute_result"
    },
    {
     "data": {
      "image/png": "[encoded data removed]",
      "text/plain": [
       "<Figure size 640x480 with 1 Axes>"
      ]
     },
     "metadata": {},
     "output_type": "display_data"
    }
   ],
   "source": [
    "plot_uplift_curve(y_holdout, uplift_effect_pred, trmnt_holdout, perfect=True)"
   ]
  },
  {
   "cell_type": "code",
   "execution_count": 32,
   "metadata": {},
   "outputs": [
    {
     "name": "stderr",
     "output_type": "stream",
     "text": [
      "/Users/luna/anaconda3/envs/yh_py38/lib/python3.8/site-packages/numpy/core/fromnumeric.py:3156: VisibleDeprecationWarning:\n",
      "\n",
      "Creating an ndarray from ragged nested sequences (which is a list-or-tuple of lists-or-tuples-or ndarrays with different lengths or shapes) is deprecated. If you meant to do this, you must specify 'dtype=object' when creating the ndarray.\n",
      "\n"
     ]
    },
    {
     "data": {
      "text/plain": [
       "<AxesSubplot: title={'center': 'Uplift by percentile\\nweighted average uplift = 0.0012'}, xlabel='Percentile', ylabel='Uplift = treatment response rate - control response rate'>"
      ]
     },
     "execution_count": 32,
     "metadata": {},
     "output_type": "execute_result"
    },
    {
     "data": {
      "image/png": "[encoded data removed]",
      "text/plain": [
       "<Figure size 800x600 with 1 Axes>"
      ]
     },
     "metadata": {},
     "output_type": "display_data"
    }
   ],
   "source": [
    "plot_uplift_by_percentile(y_holdout, uplift_effect_pred, trmnt_holdout, strategy=\"overall\", bins=10)"
   ]
  },
  {
   "cell_type": "code",
   "execution_count": 33,
   "metadata": {},
   "outputs": [],
   "source": [
    "score_if_treatment = calibrated_model.predict_proba(X_holdout_if_treatment)[:, 1]\n",
    "score_if_control = calibrated_model.predict_proba(X_holdout_if_control)[:, 1]\n",
    "uplift_effect_pred = score_if_treatment - score_if_control\n",
    "\n",
    "final_result = pd.DataFrame(\n",
    "    {\n",
    "        \"score_if_treatment\": score_if_treatment,\n",
    "        \"score_if_control\": score_if_control,\n",
    "        \"uplift_effect_pred\": uplift_effect_pred,\n",
    "        \"treatment\": trmnt_holdout,\n",
    "        \"conversion\": y_holdout,\n",
    "    }\n",
    ")\n",
    "final_result[\"group\"] = final_result[\"treatment\"].apply(\n",
    "    lambda x: \"treatment\" if x == 1 else \"control\"\n",
    ")\n",
    "final_result[\"uplift_score_pctl\"] = 100 - pd.qcut(\n",
    "    final_result[\"uplift_effect_pred\"].rank(method=\"first\"), 100, labels=False\n",
    ")"
   ]
  },
  {
   "cell_type": "code",
   "execution_count": 37,
   "metadata": {},
   "outputs": [
    {
     "data": {
      "image/png": "[encoded data removed]",
      "text/plain": [
       "<Figure size 4000x1000 with 1 Axes>"
      ]
     },
     "metadata": {},
     "output_type": "display_data"
    }
   ],
   "source": [
    "pctl = (\n",
    "    final_result.groupby([\"uplift_score_pctl\", \"group\"]).agg(\n",
    "        base_size=(\"score_if_control\", \"count\"),\n",
    "        conversion_rate=(\"conversion\", lambda x: x.mean() * 100),\n",
    "        takeup_count=(\"conversion\", \"sum\")\n",
    "    )\n",
    "    .reset_index()\n",
    ")\n",
    "pctl[\"cumulative_takeup_count\"] = pctl.groupby(\"group\")[\"takeup_count\"].cumsum()\n",
    "pctl[\"cumulative_base_size\"] = pctl.groupby(\"group\")[\"base_size\"].cumsum()\n",
    "pctl[\"cumulative_conversion_rate\"] = (\n",
    "    pctl[\"cumulative_takeup_count\"] / pctl[\"cumulative_base_size\"] * 100\n",
    ")\n",
    "\n",
    "sns.set(style=\"ticks\", font_scale=1)\n",
    "plt.figure(figsize=(20, 5), dpi=200)\n",
    "sns.lineplot(\n",
    "    x=pctl[\"uplift_score_pctl\"],\n",
    "    y=pctl[\"cumulative_conversion_rate\"],\n",
    "    hue=pctl[\"group\"],\n",
    "    style=pctl[\"group\"],\n",
    "    markers=True,\n",
    ")\n",
    "plt.title(\"Uplift by percentile\")\n",
    "plt.xlabel(\"Uplift score percentile\")\n",
    "plt.ylabel(\"Cumulative conversion rate\")\n",
    "plt.xticks(np.arange(0, 105, 5))\n",
    "plt.show()"
   ]
  },
  {
   "cell_type": "markdown",
   "metadata": {},
   "source": [
    "## 4.0 Explainability"
   ]
  },
  {
   "cell_type": "markdown",
   "metadata": {},
   "source": [
    "### 4.1 Feature Importance"
   ]
  },
  {
   "cell_type": "code",
   "execution_count": 40,
   "metadata": {},
   "outputs": [
    {
     "data": {
      "text/html": [
       "<div>\n",
       "<style scoped>\n",
       "    .dataframe tbody tr th:only-of-type {\n",
       "        vertical-align: middle;\n",
       "    }\n",
       "\n",
       "    .dataframe tbody tr th {\n",
       "        vertical-align: top;\n",
       "    }\n",
       "\n",
       "    .dataframe thead th {\n",
       "        text-align: right;\n",
       "    }\n",
       "</style>\n",
       "<table border=\"1\" class=\"dataframe\">\n",
       "  <thead>\n",
       "    <tr style=\"text-align: right;\">\n",
       "      <th></th>\n",
       "      <th>feature</th>\n",
       "      <th>importance</th>\n",
       "    </tr>\n",
       "  </thead>\n",
       "  <tbody>\n",
       "    <tr>\n",
       "      <th>4</th>\n",
       "      <td>f4</td>\n",
       "      <td>9.695016e+08</td>\n",
       "    </tr>\n",
       "    <tr>\n",
       "      <th>2</th>\n",
       "      <td>f2</td>\n",
       "      <td>2.822970e+08</td>\n",
       "    </tr>\n",
       "    <tr>\n",
       "      <th>6</th>\n",
       "      <td>f6</td>\n",
       "      <td>3.575240e+07</td>\n",
       "    </tr>\n",
       "    <tr>\n",
       "      <th>3</th>\n",
       "      <td>f3</td>\n",
       "      <td>3.005251e+07</td>\n",
       "    </tr>\n",
       "    <tr>\n",
       "      <th>12</th>\n",
       "      <td>f12_trmnt</td>\n",
       "      <td>2.090286e+06</td>\n",
       "    </tr>\n",
       "    <tr>\n",
       "      <th>7</th>\n",
       "      <td>f7</td>\n",
       "      <td>1.487931e+06</td>\n",
       "    </tr>\n",
       "    <tr>\n",
       "      <th>10</th>\n",
       "      <td>f10</td>\n",
       "      <td>6.307350e+05</td>\n",
       "    </tr>\n",
       "    <tr>\n",
       "      <th>11</th>\n",
       "      <td>f11</td>\n",
       "      <td>8.991640e+04</td>\n",
       "    </tr>\n",
       "    <tr>\n",
       "      <th>0</th>\n",
       "      <td>f0</td>\n",
       "      <td>0.000000e+00</td>\n",
       "    </tr>\n",
       "    <tr>\n",
       "      <th>1</th>\n",
       "      <td>f1</td>\n",
       "      <td>0.000000e+00</td>\n",
       "    </tr>\n",
       "  </tbody>\n",
       "</table>\n",
       "</div>"
      ],
      "text/plain": [
       "      feature    importance\n",
       "4          f4  9.695016e+08\n",
       "2          f2  2.822970e+08\n",
       "6          f6  3.575240e+07\n",
       "3          f3  3.005251e+07\n",
       "12  f12_trmnt  2.090286e+06\n",
       "7          f7  1.487931e+06\n",
       "10        f10  6.307350e+05\n",
       "11        f11  8.991640e+04\n",
       "0          f0  0.000000e+00\n",
       "1          f1  0.000000e+00"
      ]
     },
     "execution_count": 40,
     "metadata": {},
     "output_type": "execute_result"
    }
   ],
   "source": [
    "importances = model.feature_importances_\n",
    "features = model.feature_name_\n",
    "\n",
    "importances_pddf = pd.DataFrame({\"feature\": features, \"importance\": importances})\n",
    "importances_pddf = importances_pddf.sort_values(\"importance\", ascending=False)\n",
    "importances_pddf.head(10)"
   ]
  },
  {
   "cell_type": "markdown",
   "metadata": {},
   "source": [
    "### 4.2 SHAP Values"
   ]
  },
  {
   "cell_type": "code",
   "execution_count": 48,
   "metadata": {},
   "outputs": [
    {
     "name": "stderr",
     "output_type": "stream",
     "text": [
      "LightGBM binary classifier with TreeExplainer shap values output has changed to a list of ndarray\n"
     ]
    },
    {
     "data": {
      "image/png": "[encoded data removed]",
      "text/plain": [
       "<Figure size 800x670 with 1 Axes>"
      ]
     },
     "metadata": {},
     "output_type": "display_data"
    }
   ],
   "source": [
    "explainer = shap.TreeExplainer(model, feature_perturbation=\"tree_path_dependent\")\n",
    "shap_values = explainer.shap_values(X_train, y_train)\n",
    "\n",
    "shap.summary_plot(shap_values, X_train)"
   ]
  },
  {
   "cell_type": "code",
   "execution_count": null,
   "metadata": {},
   "outputs": [],
   "source": []
  }
 ],
 "metadata": {
  "kernelspec": {
   "display_name": "yh_py38",
   "language": "python",
   "name": "python3"
  },
  "language_info": {
   "codemirror_mode": {
    "name": "ipython",
    "version": 3
   },
   "file_extension": ".py",
   "mimetype": "text/x-python",
   "name": "python",
   "nbconvert_exporter": "python",
   "pygments_lexer": "ipython3",
   "version": "3.8.15"
  }
 },
 "nbformat": 4,
 "nbformat_minor": 2
}
